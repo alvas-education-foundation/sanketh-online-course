{
  "nbformat": 4,
  "nbformat_minor": 0,
  "metadata": {
    "colab": {
      "name": "Day_3_session_2_Exercise_programs.ipynb",
      "provenance": [],
      "authorship_tag": "ABX9TyMrpGsP4w2mNF9MQd9fh5mN",
      "include_colab_link": true
    },
    "kernelspec": {
      "name": "python3",
      "display_name": "Python 3"
    }
  },
  "cells": [
    {
      "cell_type": "markdown",
      "metadata": {
        "id": "view-in-github",
        "colab_type": "text"
      },
      "source": [
        "<a href=\"https://colab.research.google.com/github/alvas-education-foundation/sanketh-online-course/blob/master/Day_3_session_2_Exercise_programs.ipynb\" target=\"_parent\"><img src=\"https://colab.research.google.com/assets/colab-badge.svg\" alt=\"Open In Colab\"/></a>"
      ]
    },
    {
      "cell_type": "code",
      "metadata": {
        "id": "koDpV0nRa4dw",
        "colab_type": "code",
        "colab": {
          "base_uri": "https://localhost:8080/",
          "height": 34
        },
        "outputId": "bec95aa5-223e-4f11-c301-0f5158bfecc3"
      },
      "source": [
        "## Write a  Python Program to find the Armstrong Numbers between 1 and 2000 \n",
        "# ( i.e 153 is amtrong numbers as 1**3+5**3+3**3=153 )\n",
        "for x in range(1,2000):\n",
        "  i = str(x)\n",
        "  l = len(i)\n",
        "  ex = []\n",
        "  for y in range(l):\n",
        "    ex.append(i[y]+'**'+str(l))\n",
        "  if eval('+'.join(ex)) == x:\n",
        "    print(x,end = ' ')"
      ],
      "execution_count": 2,
      "outputs": [
        {
          "output_type": "stream",
          "text": [
            "1 2 3 4 5 6 7 8 9 153 370 371 407 1634 "
          ],
          "name": "stdout"
        }
      ]
    },
    {
      "cell_type": "code",
      "metadata": {
        "id": "LBjNxzr5bC1w",
        "colab_type": "code",
        "colab": {
          "base_uri": "https://localhost:8080/",
          "height": 204
        },
        "outputId": "97e7949c-a756-4048-b0c1-71c54e524960"
      },
      "source": [
        "## Write a python program to get the list of tuples (rollno, name) for n students by getting rollno and name through keyboard. \n",
        "# Sort and print  them as rollno wise and name wise both ascending and descending as well as alphabetical and dealphabetical orders\n",
        "\n",
        "import operator\n",
        "arr = [(int(input('Enter rollno %d: '%(x))),input('Enter name %d: '%(x))) for x in range(1,int(input('Enter no of students: '))+1)]\n",
        "print('Student details based on rollno in ascending order',sorted(arr))\n",
        "print('Student details based on rollno in descending order',sorted(arr,reverse = True))\n",
        "print('Student details based on name in ascending order',sorted(arr,key = operator.itemgetter(1)))\n",
        "print('Student details based on name in descending order',sorted(arr,key = operator.itemgetter(1),reverse = True))"
      ],
      "execution_count": 3,
      "outputs": [
        {
          "output_type": "stream",
          "text": [
            "Enter no of students: 3\n",
            "Enter rollno 1: 2\n",
            "Enter name 1: sanketh\n",
            "Enter rollno 2: 4\n",
            "Enter name 2: deeraj\n",
            "Enter rollno 3: 4\n",
            "Enter name 3: deeraj\n",
            "Student details based on rollno in ascending order [(2, 'sanketh'), (4, 'deeraj'), (4, 'deeraj')]\n",
            "Student details based on rollno in descending order [(4, 'deeraj'), (4, 'deeraj'), (2, 'sanketh')]\n",
            "Student details based on name in ascending order [(4, 'deeraj'), (4, 'deeraj'), (2, 'sanketh')]\n",
            "Student details based on name in descending order [(2, 'sanketh'), (4, 'deeraj'), (4, 'deeraj')]\n"
          ],
          "name": "stdout"
        }
      ]
    },
    {
      "cell_type": "code",
      "metadata": {
        "id": "sDUo4-gHbfFV",
        "colab_type": "code",
        "colab": {
          "base_uri": "https://localhost:8080/",
          "height": 68
        },
        "outputId": "68375ca1-deca-4bdf-a5de-2d1fc139bcd7"
      },
      "source": [
        "# Python Program to Detect if Two Strings are Anagrams \n",
        "# ( They are  the two strings which have same length and same words which may be different in their order)\n",
        "\n",
        "s1 = input('Enter the 1st string: ')\n",
        "s2 = input('Enter the 2nd string: ')\n",
        "if len(s1) == len(s2) and sorted(set(s1)) == sorted(set(s2)):\n",
        "  print('Strings are Anagrams')\n",
        "else:\n",
        "  print('Strings are not Anagrams')"
      ],
      "execution_count": 4,
      "outputs": [
        {
          "output_type": "stream",
          "text": [
            "Enter the 1st string: orange\n",
            "Enter the 2nd string: apple\n",
            "Strings are not Anagrams\n"
          ],
          "name": "stdout"
        }
      ]
    }
  ]
}