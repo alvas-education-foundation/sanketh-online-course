{
  "nbformat": 4,
  "nbformat_minor": 0,
  "metadata": {
    "colab": {
      "name": "Day_1_session_2_Exercises.ipynb",
      "provenance": [],
      "authorship_tag": "ABX9TyNXNu+xxG6+y9Ddggukqd8b",
      "include_colab_link": true
    },
    "kernelspec": {
      "name": "python3",
      "display_name": "Python 3"
    }
  },
  "cells": [
    {
      "cell_type": "markdown",
      "metadata": {
        "id": "view-in-github",
        "colab_type": "text"
      },
      "source": [
        "<a href=\"https://colab.research.google.com/github/alvas-education-foundation/sanketh-online-course/blob/master/Day_1_session_2_Exercises.ipynb\" target=\"_parent\"><img src=\"https://colab.research.google.com/assets/colab-badge.svg\" alt=\"Open In Colab\"/></a>"
      ]
    },
    {
      "cell_type": "code",
      "metadata": {
        "id": "rgjs4tsu_ALW",
        "colab_type": "code",
        "colab": {
          "base_uri": "https://localhost:8080/",
          "height": 102
        },
        "outputId": "190619b6-e89a-47d6-d8bf-a87c7cc8516a"
      },
      "source": [
        "n=4\n",
        "for i in range(n+1):\n",
        "    for j in range(i):\n",
        "        print (j+i ,end=\" \")\n",
        "    print('')"
      ],
      "execution_count": 1,
      "outputs": [
        {
          "output_type": "stream",
          "text": [
            "\n",
            "1 \n",
            "2 3 \n",
            "3 4 5 \n",
            "4 5 6 7 \n"
          ],
          "name": "stdout"
        }
      ]
    },
    {
      "cell_type": "code",
      "metadata": {
        "id": "DgIOdhTU_UNN",
        "colab_type": "code",
        "colab": {
          "base_uri": "https://localhost:8080/",
          "height": 85
        },
        "outputId": "32dd673e-1b86-4e0b-9bc9-e19e488968f1"
      },
      "source": [
        "n=4;\n",
        "for i in range(n):\n",
        "    for j in range(i+1):\n",
        "        print ('* ', end=\"\")\n",
        "    print('')"
      ],
      "execution_count": 2,
      "outputs": [
        {
          "output_type": "stream",
          "text": [
            "* \n",
            "* * \n",
            "* * * \n",
            "* * * * \n"
          ],
          "name": "stdout"
        }
      ]
    },
    {
      "cell_type": "code",
      "metadata": {
        "id": "yCWCHQYw_bcv",
        "colab_type": "code",
        "colab": {
          "base_uri": "https://localhost:8080/",
          "height": 119
        },
        "outputId": "9cc88e74-5234-46a1-8c7f-f8f9e71a2096"
      },
      "source": [
        "n=5\n",
        "for i in range(n+1):\n",
        "    for j in range(i,0,-1 ):\n",
        "        print (n-j+1 ,end=\" \")\n",
        "    print('')"
      ],
      "execution_count": 3,
      "outputs": [
        {
          "output_type": "stream",
          "text": [
            "\n",
            "5 \n",
            "4 5 \n",
            "3 4 5 \n",
            "2 3 4 5 \n",
            "1 2 3 4 5 \n"
          ],
          "name": "stdout"
        }
      ]
    },
    {
      "cell_type": "code",
      "metadata": {
        "id": "uBfgp4GF_iCh",
        "colab_type": "code",
        "colab": {
          "base_uri": "https://localhost:8080/",
          "height": 102
        },
        "outputId": "25077de5-1ab7-4b38-f074-44aaee56e128"
      },
      "source": [
        "n=5;\n",
        "for i in range(n,0,-1):\n",
        "    for j in range(i):\n",
        "        print('{0} '.format(i-j), end=\"\")\n",
        "    print('')"
      ],
      "execution_count": 4,
      "outputs": [
        {
          "output_type": "stream",
          "text": [
            "5 4 3 2 1 \n",
            "4 3 2 1 \n",
            "3 2 1 \n",
            "2 1 \n",
            "1 \n"
          ],
          "name": "stdout"
        }
      ]
    },
    {
      "cell_type": "code",
      "metadata": {
        "id": "tQ1G3vIl_oIA",
        "colab_type": "code",
        "colab": {
          "base_uri": "https://localhost:8080/",
          "height": 136
        },
        "outputId": "67cff50a-f126-41a0-d094-c3dfebe8873f"
      },
      "source": [
        "n=int(input(\"Enter the Number:\"));\n",
        "for i in range(0,n+1,1):\n",
        "    print(\"\")\n",
        "    for j in range(i+1,n+1,1):\n",
        "        print(j,end=\" \")\n",
        "    \n",
        "for i in range(1,n):\n",
        "    for j in range(i+1,0,-1):\n",
        "        print(n-j+1,end=\" \")\n",
        "    print('')\n"
      ],
      "execution_count": 8,
      "outputs": [
        {
          "output_type": "stream",
          "text": [
            "Enter the Number:3\n",
            "\n",
            "1 2 3 \n",
            "2 3 \n",
            "3 \n",
            "2 3 \n",
            "1 2 3 \n"
          ],
          "name": "stdout"
        }
      ]
    },
    {
      "cell_type": "code",
      "metadata": {
        "id": "3UsPyUia_oYd",
        "colab_type": "code",
        "colab": {
          "base_uri": "https://localhost:8080/",
          "height": 51
        },
        "outputId": "780d02ea-daf5-46be-95e6-7f982d1a169d"
      },
      "source": [
        "str = input(\"Enter a string: \")\n",
        "\n",
        "# counter variable to count the character in a string\n",
        "counter = 0\n",
        "for s in str:\n",
        "      counter = counter+1\n",
        "print(\"Length of the input string is:\", counter)\n"
      ],
      "execution_count": 6,
      "outputs": [
        {
          "output_type": "stream",
          "text": [
            "Enter a string: python\n",
            "Length of the input string is: 6\n"
          ],
          "name": "stdout"
        }
      ]
    },
    {
      "cell_type": "code",
      "metadata": {
        "id": "0-o7_5Yv_7H1",
        "colab_type": "code",
        "colab": {
          "base_uri": "https://localhost:8080/",
          "height": 102
        },
        "outputId": "2f526572-bffa-4432-9f07-5ec257930565"
      },
      "source": [
        "string=input('Enter the string')\n",
        "char=0\n",
        "word=1\n",
        "for i in string:\n",
        "    char=char+1\n",
        "    if(i==' '):\n",
        "        word=word+1\n",
        "print('Number of word in the string')\n",
        "print(word)\n",
        "print('Number of character in the string')\n",
        "print(char)"
      ],
      "execution_count": 7,
      "outputs": [
        {
          "output_type": "stream",
          "text": [
            "Enter the stringpython\n",
            "Number of word in the string\n",
            "1\n",
            "Number of character in the string\n",
            "6\n"
          ],
          "name": "stdout"
        }
      ]
    }
  ]
}