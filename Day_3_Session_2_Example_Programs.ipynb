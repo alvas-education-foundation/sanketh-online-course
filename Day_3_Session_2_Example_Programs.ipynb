{
  "nbformat": 4,
  "nbformat_minor": 0,
  "metadata": {
    "colab": {
      "name": "Day_3_Session_2_Example_Programs.ipynb",
      "provenance": [],
      "authorship_tag": "ABX9TyMgKrKo36nq+790CNC0CZYO",
      "include_colab_link": true
    },
    "kernelspec": {
      "name": "python3",
      "display_name": "Python 3"
    }
  },
  "cells": [
    {
      "cell_type": "markdown",
      "metadata": {
        "id": "view-in-github",
        "colab_type": "text"
      },
      "source": [
        "<a href=\"https://colab.research.google.com/github/alvas-education-foundation/sanketh-online-course/blob/master/Day_3_Session_2_Example_Programs.ipynb\" target=\"_parent\"><img src=\"https://colab.research.google.com/assets/colab-badge.svg\" alt=\"Open In Colab\"/></a>"
      ]
    },
    {
      "cell_type": "code",
      "metadata": {
        "id": "j8C4VBimSCXs",
        "colab_type": "code",
        "colab": {}
      },
      "source": [
        "#Finding the factorial of a number\n",
        "n=int(input(\"Enter number:\"))\n",
        "fact=1\n",
        "while(n>0):\n",
        "    fact=fact*n\n",
        "    n=n-1\n",
        "print(\"Factorial of the number is: \")\n",
        "print(fact)"
      ],
      "execution_count": null,
      "outputs": []
    },
    {
      "cell_type": "code",
      "metadata": {
        "id": "4t9rQj7YSV-t",
        "colab_type": "code",
        "colab": {
          "base_uri": "https://localhost:8080/",
          "height": 34
        },
        "outputId": "a9ca21ac-700b-4e86-c388-6cbcc01fba47"
      },
      "source": [
        "#Program for multiples of 2 of a list without list comprehension\n",
        "[2, 4, 6, 8, 10, 12]\n",
        "x=[1, 2, 3, 4, 5, 6]\n",
        "result = []\n",
        "for idx in range(len(x)):\n",
        "  result.append(x[idx] * 2)\n",
        "print(result)"
      ],
      "execution_count": 1,
      "outputs": [
        {
          "output_type": "stream",
          "text": [
            "[2, 4, 6, 8, 10, 12]\n"
          ],
          "name": "stdout"
        }
      ]
    },
    {
      "cell_type": "code",
      "metadata": {
        "id": "SGohuxN1Tr5k",
        "colab_type": "code",
        "colab": {
          "base_uri": "https://localhost:8080/",
          "height": 34
        },
        "outputId": "fe90d3e3-c178-4265-e59f-f7615856af50"
      },
      "source": [
        "#Single line program of Pythonic coding\n",
        "print([i*2 for i in [1, 2, 3, 4, 5, 6] ])"
      ],
      "execution_count": 2,
      "outputs": [
        {
          "output_type": "stream",
          "text": [
            "[2, 4, 6, 8, 10, 12]\n"
          ],
          "name": "stdout"
        }
      ]
    },
    {
      "cell_type": "code",
      "metadata": {
        "id": "6mFeWkYZTt9l",
        "colab_type": "code",
        "colab": {
          "base_uri": "https://localhost:8080/",
          "height": 51
        },
        "outputId": "6431bd9e-bf46-418c-bfa8-0032ecd9f457"
      },
      "source": [
        "#More Pythonic program of 3 lines!\n",
        "from functools import reduce\n",
        "sequences = [x for x in range(1,int(input('Enter no'))+1)]\n",
        "product = reduce(lambda x, y: x*y, sequences)\n",
        "print(product)"
      ],
      "execution_count": 3,
      "outputs": [
        {
          "output_type": "stream",
          "text": [
            "Enter no4\n",
            "24\n"
          ],
          "name": "stdout"
        }
      ]
    },
    {
      "cell_type": "code",
      "metadata": {
        "id": "It-7mbPoTzT9",
        "colab_type": "code",
        "colab": {
          "base_uri": "https://localhost:8080/",
          "height": 68
        },
        "outputId": "f01cec6c-8c15-468a-89ac-a505db268015"
      },
      "source": [
        "#Number and its square as Tuple for a range\n",
        "l_range=int(input(\"Enter the lower range:\"))\n",
        "u_range=int(input(\"Enter the upper range:\"))\n",
        "a=[(x,x**2) for x in range(l_range,u_range+1)]\n",
        "print(a)"
      ],
      "execution_count": 4,
      "outputs": [
        {
          "output_type": "stream",
          "text": [
            "Enter the lower range:5\n",
            "Enter the upper range:8\n",
            "[(5, 25), (6, 36), (7, 49), (8, 64)]\n"
          ],
          "name": "stdout"
        }
      ]
    },
    {
      "cell_type": "code",
      "metadata": {
        "id": "T2fY_NxgUGvL",
        "colab_type": "code",
        "colab": {
          "base_uri": "https://localhost:8080/",
          "height": 34
        },
        "outputId": "79b02ce2-a442-4e08-91d7-291741ea5dcf"
      },
      "source": [
        "#Finding the perfect squares\n",
        "from math import *\n",
        "sequences = [10,2,8,7,5,4,3,11,0,9,16,1]\n",
        "result=[]\n",
        "for i in sequences:\n",
        "  if int(sqrt(i))**2==i:\n",
        "    result.append(i)\n",
        "print(result)"
      ],
      "execution_count": 5,
      "outputs": [
        {
          "output_type": "stream",
          "text": [
            "[4, 0, 9, 16, 1]\n"
          ],
          "name": "stdout"
        }
      ]
    },
    {
      "cell_type": "code",
      "metadata": {
        "id": "9CRxi5S0UMdm",
        "colab_type": "code",
        "colab": {
          "base_uri": "https://localhost:8080/",
          "height": 34
        },
        "outputId": "0e7e390e-dca9-4ae9-f799-fc6daf9d5f04"
      },
      "source": [
        "#Pythonic program of 3 lines!\n",
        "sequences = [10,2,8,7,5,4,3,11,0,9,16,1]\n",
        "filtered_result = filter(lambda x: int(sqrt(x))**2==x, sequences) \n",
        "print(list(filtered_result))"
      ],
      "execution_count": 6,
      "outputs": [
        {
          "output_type": "stream",
          "text": [
            "[4, 0, 9, 16, 1]\n"
          ],
          "name": "stdout"
        }
      ]
    },
    {
      "cell_type": "code",
      "metadata": {
        "id": "2FDKMWUuUR7o",
        "colab_type": "code",
        "colab": {
          "base_uri": "https://localhost:8080/",
          "height": 85
        },
        "outputId": "a7ac062b-9754-42b6-e8e4-ac710cdfcd22"
      },
      "source": [
        "#Program to nd the largest number in a list.\n",
        "a=[]\n",
        "n=int(input(\"Enter number of elements:\"))\n",
        "for i in range(1,n+1):\n",
        "    b=int(input(\"Enter element:\"))\n",
        "    a.append(b)\n",
        "a.sort()\n",
        "print(\"Largest element is:\",a[n-1])"
      ],
      "execution_count": 7,
      "outputs": [
        {
          "output_type": "stream",
          "text": [
            "Enter number of elements:2\n",
            "Enter element:3\n",
            "Enter element:4\n",
            "Largest element is: 4\n"
          ],
          "name": "stdout"
        }
      ]
    },
    {
      "cell_type": "code",
      "metadata": {
        "id": "sY3GHB9AUbao",
        "colab_type": "code",
        "colab": {
          "base_uri": "https://localhost:8080/",
          "height": 102
        },
        "outputId": "bdd851fa-e28c-4b24-8365-ec230f19051c"
      },
      "source": [
        "#Try this More pythonic 2 lines program equivalent to above codings as shown below !\n",
        "x=0\n",
        "print('The greatest no is',max([int(input(x)) for _ in range(int(input(\"Enter no\")))]))"
      ],
      "execution_count": 8,
      "outputs": [
        {
          "output_type": "stream",
          "text": [
            "Enter no3\n",
            "3\n",
            "4\n",
            "5\n",
            "The greatest no is 5\n"
          ],
          "name": "stdout"
        }
      ]
    },
    {
      "cell_type": "code",
      "metadata": {
        "id": "gTs66IHgUm2P",
        "colab_type": "code",
        "colab": {
          "base_uri": "https://localhost:8080/",
          "height": 68
        },
        "outputId": "f99823b0-7c2d-4dd9-9235-c7bf72aca1e8"
      },
      "source": [
        "#Program to create a list of tuples with the rst element as the number and the second\n",
        "#element as the square of the number.\n",
        "l_range=int(input(\"Enter the lower range:\"))\n",
        "u_range=int(input(\"Enter the upper range:\"))\n",
        "a=[(x,x**2) for x in range(l_range,u_range+1)]\n",
        "print(a)"
      ],
      "execution_count": 9,
      "outputs": [
        {
          "output_type": "stream",
          "text": [
            "Enter the lower range:3\n",
            "Enter the upper range:5\n",
            "[(3, 9), (4, 16), (5, 25)]\n"
          ],
          "name": "stdout"
        }
      ]
    },
    {
      "cell_type": "code",
      "metadata": {
        "id": "8ZeAcEPmUxmw",
        "colab_type": "code",
        "colab": {
          "base_uri": "https://localhost:8080/",
          "height": 68
        },
        "outputId": "98cf31c3-1af5-4bfc-afa1-f67d8d5cb69e"
      },
      "source": [
        "#The aforementioned program is already pythonic.\n",
        "a=[(x,x**2) for x in range(int(input(\"Enter the lower range:\")),\\\n",
        "                           int(input(\"Enter the upper range:\"))+1)]\n",
        "print(a)"
      ],
      "execution_count": 10,
      "outputs": [
        {
          "output_type": "stream",
          "text": [
            "Enter the lower range:2\n",
            "Enter the upper range:4\n",
            "[(2, 4), (3, 9), (4, 16)]\n"
          ],
          "name": "stdout"
        }
      ]
    },
    {
      "cell_type": "code",
      "metadata": {
        "id": "VCqWa3WvU8cT",
        "colab_type": "code",
        "colab": {
          "base_uri": "https://localhost:8080/",
          "height": 68
        },
        "outputId": "460a016c-28b1-4ac4-efe0-d15b0e35ed66"
      },
      "source": [
        "# We can write in the most pythonic way with one line ! as follows\n",
        "print([(x,x**2) for x in range(int(input(\"Enter the lower range:\")),\\\n",
        "                           int(input(\"Enter the upper range:\"))+1)])"
      ],
      "execution_count": 11,
      "outputs": [
        {
          "output_type": "stream",
          "text": [
            "Enter the lower range:2\n",
            "Enter the upper range:4\n",
            "[(2, 4), (3, 9), (4, 16)]\n"
          ],
          "name": "stdout"
        }
      ]
    },
    {
      "cell_type": "code",
      "metadata": {
        "id": "X1PzRsDdVDfw",
        "colab_type": "code",
        "colab": {
          "base_uri": "https://localhost:8080/",
          "height": 51
        },
        "outputId": "c2fe6562-a008-412e-916b-eb22e4cd795d"
      },
      "source": [
        "#Program to generate random numbers from 1 to 20 and append them to the list.\n",
        "import random\n",
        "a=[]\n",
        "n=int(input(\"Enter number of elements:\"))\n",
        "for j in range(n):\n",
        "    a.append(random.randint(1,20))\n",
        "print('Randomised list is: ',a)"
      ],
      "execution_count": 13,
      "outputs": [
        {
          "output_type": "stream",
          "text": [
            "Enter number of elements:2\n",
            "Randomised list is:  [17, 3]\n"
          ],
          "name": "stdout"
        }
      ]
    },
    {
      "cell_type": "code",
      "metadata": {
        "id": "SFUgvU8gVbpB",
        "colab_type": "code",
        "colab": {
          "base_uri": "https://localhost:8080/",
          "height": 51
        },
        "outputId": "1386b6f1-51a9-4837-ff51-e9c3c1069d14"
      },
      "source": [
        "#Pythonic program of 2 lines!\n",
        "import random\n",
        "l=[random.randint(1,20) for _ in range(int(input(\"Enter how many elements\")))]\n",
        "print('Randomised list is: ',l)"
      ],
      "execution_count": 14,
      "outputs": [
        {
          "output_type": "stream",
          "text": [
            "Enter how many elements2\n",
            "Randomised list is:  [4, 11]\n"
          ],
          "name": "stdout"
        }
      ]
    },
    {
      "cell_type": "code",
      "metadata": {
        "id": "_xRBJ0aiV1jk",
        "colab_type": "code",
        "colab": {
          "base_uri": "https://localhost:8080/",
          "height": 221
        },
        "outputId": "fe876b94-a016-4d41-a074-4231bb1214c2"
      },
      "source": [
        "#Program for printing list of values with indexing\n",
        "names = ['Jan','Feb','Mar','Apr','May','Jun','Jul','Aug','Sep','Oct','Nov','Dec']\n",
        "index=0\n",
        "for i in names:\n",
        "    print(str(index)+\":\"+i)\n",
        "    index=index+1"
      ],
      "execution_count": 15,
      "outputs": [
        {
          "output_type": "stream",
          "text": [
            "0:Jan\n",
            "1:Feb\n",
            "2:Mar\n",
            "3:Apr\n",
            "4:May\n",
            "5:Jun\n",
            "6:Jul\n",
            "7:Aug\n",
            "8:Sep\n",
            "9:Oct\n",
            "10:Nov\n",
            "11:Dec\n"
          ],
          "name": "stdout"
        }
      ]
    },
    {
      "cell_type": "code",
      "metadata": {
        "id": "hL1WJqMrWNeI",
        "colab_type": "code",
        "colab": {
          "base_uri": "https://localhost:8080/",
          "height": 221
        },
        "outputId": "5143b52c-aa07-470d-dfdc-632bd36a58ea"
      },
      "source": [
        "#using Pythonic way using enumerate()!\n",
        "names = ['Jan','Feb','Mar','Apr','May','Jun','Jul','Aug','Sep','Oct','Nov','Dec']\n",
        "for index, value in enumerate(names):\n",
        "    print(f'{index+1}: {value}')"
      ],
      "execution_count": 16,
      "outputs": [
        {
          "output_type": "stream",
          "text": [
            "1: Jan\n",
            "2: Feb\n",
            "3: Mar\n",
            "4: Apr\n",
            "5: May\n",
            "6: Jun\n",
            "7: Jul\n",
            "8: Aug\n",
            "9: Sep\n",
            "10: Oct\n",
            "11: Nov\n",
            "12: Dec\n"
          ],
          "name": "stdout"
        }
      ]
    },
    {
      "cell_type": "code",
      "metadata": {
        "id": "7TStmx9bWSiu",
        "colab_type": "code",
        "colab": {}
      },
      "source": [
        ""
      ],
      "execution_count": null,
      "outputs": []
    }
  ]
}